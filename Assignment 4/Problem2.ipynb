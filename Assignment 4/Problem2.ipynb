{
 "cells": [
  {
   "cell_type": "code",
   "execution_count": 1,
   "metadata": {},
   "outputs": [],
   "source": [
    "import torch\n",
    "import torch.nn as nn\n",
    "import numpy as np\n",
    "import matplotlib.pyplot  as plt\n",
    "import torch.nn.functional as F\n",
    "from torchvision.datasets import DatasetFolder\n",
    "import cv2\n",
    "\n",
    "device  = 'cuda' if torch.cuda.is_available() else 'cpu'"
   ]
  },
  {
   "cell_type": "code",
   "execution_count": 2,
   "metadata": {},
   "outputs": [
    {
     "name": "stderr",
     "output_type": "stream",
     "text": [
      "fatal: destination path 'RowanDLclassNEA' already exists and is not an empty directory.\n"
     ]
    }
   ],
   "source": [
    "!git clone https://github.com/skokalj/RowanDLclassNEA.git"
   ]
  },
  {
   "cell_type": "code",
   "execution_count": 3,
   "metadata": {},
   "outputs": [],
   "source": [
    "from torchvision import transforms\n",
    "import PIL.Image\n",
    "\n",
    "\n",
    "def load_image(img_path:str):    \n",
    "        np_img = cv2.imread(img_path)\n",
    "        return PIL.Image.fromarray(np_img)\n",
    "\n",
    "dset = DatasetFolder(root=r'RowanDLclassNEA\\NEUdata', loader = load_image, extensions = ('.bmp',))\n",
    "\n",
    "transform = transforms.Compose([\n",
    "  transforms.Resize(256),\n",
    "  transforms.CenterCrop(224),\n",
    "  transforms.ToTensor(),\n",
    "  transforms.Normalize(\n",
    "      mean=[0.485, 0.456, 0.406],\n",
    "      std=[0.229, 0.224, 0.225])])\n",
    "\n",
    "dset = DatasetFolder(root=r'RowanDLclassNEA\\NEUdata', loader = load_image, extensions = ('.bmp',), transform = transform)"
   ]
  },
  {
   "cell_type": "code",
   "execution_count": 4,
   "metadata": {},
   "outputs": [],
   "source": [
    "from torch.utils.data import random_split\n",
    "\n",
    "train_set, val_set = random_split(\n",
    "                      dset, \n",
    "                      [1200, 600])\n",
    "\n",
    "trainloader = torch.utils.data.DataLoader(\n",
    "                    train_set, \n",
    "                    batch_size=16, \n",
    "                    shuffle=True)\n",
    "\n",
    "valloader = torch.utils.data.DataLoader(\n",
    "                    val_set, \n",
    "                    batch_size=16, \n",
    "                    shuffle=True)\n"
   ]
  },
  {
   "cell_type": "code",
   "execution_count": 6,
   "metadata": {},
   "outputs": [
    {
     "data": {
      "text/plain": [
       "torch.Size([16, 3, 224, 224])"
      ]
     },
     "execution_count": 6,
     "metadata": {},
     "output_type": "execute_result"
    }
   ],
   "source": [
    "data, label = next(iter(trainloader))\n",
    "\n",
    "data.shape"
   ]
  },
  {
   "cell_type": "code",
   "execution_count": 13,
   "metadata": {},
   "outputs": [],
   "source": [
    "import torch\n",
    "import torch.nn as nn\n",
    "\n",
    "class Encoder(nn.Module):\n",
    "    def __init__(self):\n",
    "        super(Encoder, self).__init__()\n",
    "        self.conv1 = nn.Conv2d(3, 16, 3, stride=2, padding=1)\n",
    "        self.conv2 = nn.Conv2d(16, 32, 3, stride=2, padding=1)\n",
    "        self.conv3 = nn.Conv2d(32, 32, 3, stride=2, padding=1)\n",
    "\n",
    "    def forward(self, x):\n",
    "        x = torch.relu(self.conv1(x))\n",
    "        x = torch.relu(self.conv2(x))\n",
    "        x = torch.relu(self.conv3(x))\n",
    "        return x\n",
    "\n",
    "class Decoder(nn.Module):\n",
    "    def __init__(self):\n",
    "        super(Decoder, self).__init__()\n",
    "        self.deconv1 = nn.ConvTranspose2d(32, 32, 3, stride=2, padding=1)\n",
    "        self.deconv2 = nn.ConvTranspose2d(32, 16, 3, stride=2, padding=1)\n",
    "        self.deconv3 = nn.ConvTranspose2d(16, 3, 3, stride=2, padding=1)\n",
    "    \n",
    "    def forward(self, x):\n",
    "        x = torch.relu(self.deconv1(x))\n",
    "        x = torch.relu(self.deconv2(x))\n",
    "        x = torch.sigmoid(self.deconv3(x))\n",
    "        return x\n",
    "\n",
    "class Autoencoder(nn.Module):\n",
    "    def __init__(self):\n",
    "        super(Autoencoder, self).__init__()\n",
    "        self.encoder = Encoder()\n",
    "        self.decoder = Decoder()\n",
    "\n",
    "    def forward(self, x):\n",
    "        x = self.encoder(x)\n",
    "        x = self.decoder(x)\n",
    "        return x\n",
    "\n",
    "\n",
    "\n"
   ]
  },
  {
   "cell_type": "code",
   "execution_count": 16,
   "metadata": {},
   "outputs": [
    {
     "name": "stdout",
     "output_type": "stream",
     "text": [
      "Epoch: 0 Train Loss: 0.9590566245714823 Val Loss: 0.9574492369827471\n",
      "Epoch: 1 Train Loss: 0.9542277137438456 Val Loss: 0.9470631119452024\n",
      "Epoch: 2 Train Loss: 0.94960014184316 Val Loss: 0.9384328111221916\n",
      "Epoch: 3 Train Loss: 0.945258572101593 Val Loss: 0.9367550093876688\n",
      "Epoch: 4 Train Loss: 0.94121821641922 Val Loss: 0.9320039309953388\n",
      "Epoch: 5 Train Loss: 0.9374148774147034 Val Loss: 0.9329186003459128\n",
      "Epoch: 6 Train Loss: 0.9338915769259135 Val Loss: 0.925634431211572\n",
      "Epoch: 7 Train Loss: 0.9305815116564433 Val Loss: 0.9212222193416796\n",
      "Epoch: 8 Train Loss: 0.9275203116734823 Val Loss: 0.9151796698570251\n",
      "Epoch: 9 Train Loss: 0.924679004351298 Val Loss: 0.9109822158750734\n",
      "Epoch: 10 Train Loss: 0.9220064528783163 Val Loss: 0.9068887845466012\n",
      "Epoch: 11 Train Loss: 0.919543518225352 Val Loss: 0.9043697354040647\n",
      "Epoch: 12 Train Loss: 0.9172346226374308 Val Loss: 0.9067593138468893\n",
      "Epoch: 13 Train Loss: 0.9150747919082641 Val Loss: 0.9017455593535775\n",
      "Epoch: 14 Train Loss: 0.9130640618006388 Val Loss: 0.8991093478704754\n",
      "Epoch: 15 Train Loss: 0.9112149437268575 Val Loss: 0.8919563607165688\n",
      "Epoch: 16 Train Loss: 0.9094677329063415 Val Loss: 0.8927403225710517\n",
      "Epoch: 17 Train Loss: 0.9078333652019501 Val Loss: 0.8965281875509965\n",
      "Epoch: 18 Train Loss: 0.9063237452507019 Val Loss: 0.8826304627092261\n",
      "Epoch: 19 Train Loss: 0.9049183336893717 Val Loss: 0.8933740462127485\n",
      "Epoch: 20 Train Loss: 0.9035659098625183 Val Loss: 0.8808743498827282\n",
      "Epoch: 21 Train Loss: 0.9023352686564128 Val Loss: 0.8810759453397048\n",
      "Epoch: 22 Train Loss: 0.9011839803059896 Val Loss: 0.8781604845272867\n",
      "Epoch: 23 Train Loss: 0.9000761799017588 Val Loss: 0.880312613750759\n",
      "Epoch: 24 Train Loss: 0.8990618828932444 Val Loss: 0.8815327349462008\n",
      "Epoch: 25 Train Loss: 0.8980962781111399 Val Loss: 0.8702106358189332\n",
      "Epoch: 26 Train Loss: 0.8971929407119751 Val Loss: 0.8693684370894181\n",
      "Epoch: 27 Train Loss: 0.8963443040847778 Val Loss: 0.8701600691205577\n",
      "Epoch: 28 Train Loss: 0.8955664193630218 Val Loss: 0.8697870499209354\n",
      "Epoch: 29 Train Loss: 0.8947860733668009 Val Loss: 0.8755622004207811\n",
      "Epoch: 30 Train Loss: 0.894083110888799 Val Loss: 0.8763870957650637\n",
      "Epoch: 31 Train Loss: 0.8934193658828735 Val Loss: 0.8763264417648315\n",
      "Epoch: 32 Train Loss: 0.8927918004989625 Val Loss: 0.871325472467824\n",
      "Epoch: 33 Train Loss: 0.8921910850207011 Val Loss: 0.8721605704018944\n",
      "Epoch: 34 Train Loss: 0.8916123112042745 Val Loss: 0.8699070575990175\n",
      "Epoch: 35 Train Loss: 0.8910847429434459 Val Loss: 0.8657418960019162\n",
      "Epoch: 36 Train Loss: 0.8905715195337931 Val Loss: 0.8607653881374159\n",
      "Epoch: 37 Train Loss: 0.8900828929742177 Val Loss: 0.8590991849962034\n",
      "Epoch: 38 Train Loss: 0.8896431644757589 Val Loss: 0.8661398056306338\n",
      "Epoch: 39 Train Loss: 0.8891896422704061 Val Loss: 0.8587767638658222\n",
      "Epoch: 40 Train Loss: 0.8887716611226399 Val Loss: 0.8658656979862013\n",
      "Epoch: 41 Train Loss: 0.8883757305145263 Val Loss: 0.8617648152928603\n",
      "Epoch: 42 Train Loss: 0.888005207379659 Val Loss: 0.8639123839767355\n",
      "Epoch: 43 Train Loss: 0.8876365800698598 Val Loss: 0.8630601057880803\n",
      "Epoch: 44 Train Loss: 0.8872890710830689 Val Loss: 0.8542531916969701\n",
      "Epoch: 45 Train Loss: 0.886956334511439 Val Loss: 0.8589151619296325\n",
      "Epoch: 46 Train Loss: 0.886644139289856 Val Loss: 0.8614681614072699\n",
      "Epoch: 47 Train Loss: 0.8863292606671651 Val Loss: 0.8600049097287027\n",
      "Epoch: 48 Train Loss: 0.88602920850118 Val Loss: 0.8621491162400496\n",
      "Epoch: 49 Train Loss: 0.8857328605651855 Val Loss: 0.8567668277966348\n"
     ]
    }
   ],
   "source": [
    "import torch\n",
    "import torch.optim as optim\n",
    "import torch.nn as nn\n",
    "\n",
    "device = \"cuda\" if torch.cuda.is_available() else \"cpu\"\n",
    "autoencoder = Autoencoder().to(device=device)\n",
    "criterion = nn.MSELoss()\n",
    "optimizer = optim.SGD(autoencoder.parameters(), lr=0.001, momentum=0.9)\n",
    "\n",
    "N_EPOCHS = 50\n",
    "tr_loss_hist = []\n",
    "val_loss_hist = []\n",
    "\n",
    "for epoch in range(N_EPOCHS):\n",
    "\n",
    "    train_loss = 0.0\n",
    "    autoencoder.train()\n",
    "    \n",
    "    for inputs, _ in trainloader:\n",
    "        inputs = inputs.to(device)\n",
    "        \n",
    "        optimizer.zero_grad()\n",
    "\n",
    "        outputs = autoencoder(inputs)\n",
    "        resize_transform = transforms.Resize((224, 224))\n",
    "        outputs = resize_transform(outputs)\n",
    "        loss = criterion(outputs, inputs)\n",
    "\n",
    "        loss.backward()\n",
    "        optimizer.step()\n",
    "\n",
    "        train_loss += loss.item()\n",
    "\n",
    "    val_loss = 0.0\n",
    "    autoencoder.eval()\n",
    "    \n",
    "    for inputs, _ in valloader:\n",
    "        inputs = inputs.to(device)\n",
    "\n",
    "        outputs = autoencoder(inputs)\n",
    "        resize_transform = transforms.Resize((224, 224))\n",
    "        outputs = resize_transform(outputs)\n",
    "        loss = criterion(outputs, inputs)\n",
    "\n",
    "        val_loss += loss.item()\n",
    "\n",
    "    print(\"Epoch: {} Train Loss: {} Val Loss: {}\".format(\n",
    "        epoch, train_loss / len(trainloader), val_loss / len(valloader)))\n",
    "    tr_loss_hist.append(train_loss / len(trainloader))\n",
    "    val_loss_hist.append(val_loss / len(valloader))\n"
   ]
  },
  {
   "cell_type": "code",
   "execution_count": 50,
   "metadata": {},
   "outputs": [
    {
     "name": "stderr",
     "output_type": "stream",
     "text": [
      "Clipping input data to the valid range for imshow with RGB data ([0..1] for floats or [0..255] for integers).\n"
     ]
    },
    {
     "name": "stdout",
     "output_type": "stream",
     "text": [
      "50\n",
      "(3, 224, 224)\n",
      "(3, 217, 217)\n"
     ]
    },
    {
     "data": {
      "image/png": "[encoded data removed]",
      "text/plain": [
       "<Figure size 400x10000 with 2 Axes>"
      ]
     },
     "metadata": {},
     "output_type": "display_data"
    }
   ],
   "source": [
    "import matplotlib.pyplot as plt\n",
    "\n",
    "autoencoder.eval()\n",
    "originals = []\n",
    "reconstructed = []\n",
    "\n",
    "tset = DatasetFolder(root=r'RowanDLclassNEA\\NEUdata_split\\Test', loader=load_image, extensions=('.bmp',), transform=transform)\n",
    "\n",
    "test_loader = torch.utils.data.DataLoader(\n",
    "    tset,\n",
    "    batch_size=50,\n",
    "    shuffle=True)\n",
    "\n",
    "for inputs, _ in test_loader:\n",
    "    inputs = inputs.to(device)\n",
    "    outputs = autoencoder(inputs)\n",
    "\n",
    "    inputs_np = inputs.cpu().detach().numpy()\n",
    "    outputs_np = outputs.cpu().detach().numpy()\n",
    "\n",
    "    originals.extend(inputs_np)\n",
    "    reconstructed.extend(outputs_np)\n",
    "\n",
    "originals = np.array(originals)\n",
    "reconstructed = np.array(reconstructed)\n",
    "\n",
    "#print(reconstructed[0])\n",
    "\n",
    "num_images = len(originals[:50])\n",
    "\n",
    "\n",
    "fig = plt.figure(figsize=(4,100))\n",
    "\n",
    "print(num_images)\n",
    "\n",
    "for i in range(1):\n",
    "    fig.add_subplot(50,2,2*i+1)\n",
    "    print(originals[0].shape)\n",
    "    plt.imshow(originals[i].transpose((1, 2, 0)))  \n",
    "    fig.add_subplot(50,2,2*i+2)\n",
    "    print(reconstructed[0].shape)\n",
    "    plt.imshow(reconstructed[i].transpose((1, 2, 0)))  \n",
    "\n",
    "\n",
    "plt.show()\n"
   ]
  },
  {
   "cell_type": "code",
   "execution_count": null,
   "metadata": {},
   "outputs": [],
   "source": []
  }
 ],
 "metadata": {
  "kernelspec": {
   "display_name": "Python 3",
   "language": "python",
   "name": "python3"
  },
  "language_info": {
   "codemirror_mode": {
    "name": "ipython",
    "version": 3
   },
   "file_extension": ".py",
   "mimetype": "text/x-python",
   "name": "python",
   "nbconvert_exporter": "python",
   "pygments_lexer": "ipython3",
   "version": "3.10.10"
  }
 },
 "nbformat": 4,
 "nbformat_minor": 2
}

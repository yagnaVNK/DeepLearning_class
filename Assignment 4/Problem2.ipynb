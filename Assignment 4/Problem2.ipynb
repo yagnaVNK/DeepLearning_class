{
 "cells": [
  {
   "cell_type": "code",
   "execution_count": 10,
   "metadata": {},
   "outputs": [],
   "source": [
    "import torch\n",
    "import torch.nn as nn\n",
    "import numpy as np\n",
    "import matplotlib.pyplot  as plt\n",
    "import torch.nn.functional as F\n",
    "from torchvision.datasets import DatasetFolder\n",
    "import cv2\n",
    "\n",
    "device  = 'cuda' if torch.cuda.is_available() else 'cpu'"
   ]
  },
  {
   "cell_type": "code",
   "execution_count": 2,
   "metadata": {},
   "outputs": [
    {
     "name": "stdout",
     "output_type": "stream",
     "text": [
      "Cloning into 'RowanDLclassNEA'...\n",
      "remote: Enumerating objects: 1833, done.\u001b[K\n",
      "remote: Counting objects: 100% (7/7), done.\u001b[K\n",
      "remote: Compressing objects: 100% (7/7), done.\u001b[K\n",
      "remote: Total 1833 (delta 1), reused 5 (delta 0), pack-reused 1826\u001b[K\n",
      "Receiving objects: 100% (1833/1833), 57.56 MiB | 3.17 MiB/s, done.\n",
      "Resolving deltas: 100% (23/23), done.\n"
     ]
    }
   ],
   "source": [
    "!git clone https://github.com/skokalj/RowanDLclassNEA.git"
   ]
  },
  {
   "cell_type": "code",
   "execution_count": 12,
   "metadata": {},
   "outputs": [],
   "source": [
    "from torchvision import transforms\n",
    "import PIL.Image\n",
    "\n",
    "\n",
    "def load_image(img_path:str):    \n",
    "        np_img = cv2.imread(img_path)\n",
    "        return PIL.Image.fromarray(np_img)\n",
    "\n",
    "dset = DatasetFolder(root=r'RowanDLclassNEA/NEUdata', loader = load_image, extensions = ('.bmp',))\n",
    "\n",
    "transform = transforms.Compose([\n",
    "  transforms.Resize(256),\n",
    "  transforms.CenterCrop(224),\n",
    "  transforms.ToTensor(),\n",
    "  transforms.Normalize(\n",
    "      mean=[0.485, 0.456, 0.406],\n",
    "      std=[0.229, 0.224, 0.225])])\n",
    "\n",
    "dset = DatasetFolder(root=r'RowanDLclassNEA/NEUdata', loader = load_image, extensions = ('.bmp',), transform = transform)"
   ]
  },
  {
   "cell_type": "code",
   "execution_count": 5,
   "metadata": {},
   "outputs": [],
   "source": [
    "from torch.utils.data import random_split\n",
    "\n",
    "train_set, val_set = random_split(\n",
    "                      dset, \n",
    "                      [1200, 600])\n",
    "\n",
    "trainloader = torch.utils.data.DataLoader(\n",
    "                    train_set, \n",
    "                    batch_size=16, \n",
    "                    shuffle=True)\n",
    "\n",
    "valloader = torch.utils.data.DataLoader(\n",
    "                    val_set, \n",
    "                    batch_size=16, \n",
    "                    shuffle=True)\n"
   ]
  },
  {
   "cell_type": "code",
   "execution_count": 6,
   "metadata": {},
   "outputs": [
    {
     "data": {
      "text/plain": [
       "torch.Size([16, 3, 224, 224])"
      ]
     },
     "execution_count": 6,
     "metadata": {},
     "output_type": "execute_result"
    }
   ],
   "source": [
    "data, label = next(iter(trainloader))\n",
    "\n",
    "data.shape"
   ]
  },
  {
   "cell_type": "code",
   "execution_count": 2,
   "metadata": {},
   "outputs": [],
   "source": [
    "import torch\n",
    "import torch.nn as nn\n",
    "\n",
    "class Encoder(nn.Module):\n",
    "    def __init__(self):\n",
    "        super(Encoder, self).__init__()\n",
    "        self.conv1 = nn.Conv2d(3, 16, 3, stride=2, padding=1)\n",
    "        self.conv2 = nn.Conv2d(16, 32, 3, stride=2, padding=1)\n",
    "        self.conv3 = nn.Conv2d(32, 32, 3, stride=2, padding=1)\n",
    "\n",
    "    def forward(self, x):\n",
    "        x = torch.relu(self.conv1(x))\n",
    "        x = torch.relu(self.conv2(x))\n",
    "        x = torch.relu(self.conv3(x))\n",
    "        return x\n",
    "\n",
    "class Decoder(nn.Module):\n",
    "    def __init__(self):\n",
    "        super(Decoder, self).__init__()\n",
    "        self.deconv1 = nn.ConvTranspose2d(32, 32, 3, stride=2, padding=1)\n",
    "        self.deconv2 = nn.ConvTranspose2d(32, 16, 3, stride=2, padding=1)\n",
    "        self.deconv3 = nn.ConvTranspose2d(16, 3, 3, stride=2, padding=1)\n",
    "    \n",
    "    def forward(self, x):\n",
    "        x = torch.relu(self.deconv1(x))\n",
    "        x = torch.relu(self.deconv2(x))\n",
    "        x = torch.sigmoid(self.deconv3(x))\n",
    "        return x\n",
    "\n",
    "class Autoencoder(nn.Module):\n",
    "    def __init__(self):\n",
    "        super(Autoencoder, self).__init__()\n",
    "        self.encoder = Encoder()\n",
    "        self.decoder = Decoder()\n",
    "\n",
    "    def forward(self, x):\n",
    "        x = self.encoder(x)\n",
    "        x = self.decoder(x)\n",
    "        return x\n",
    "\n",
    "\n",
    "\n"
   ]
  },
  {
   "cell_type": "code",
   "execution_count": 8,
   "metadata": {},
   "outputs": [
    {
     "name": "stderr",
     "output_type": "stream",
     "text": [
      "/opt/pythonenvs/class_fall2023/lib/python3.8/site-packages/torchvision/transforms/functional.py:1603: UserWarning: The default value of the antialias parameter of all the resizing transforms (Resize(), RandomResizedCrop(), etc.) will change from None to True in v0.17, in order to be consistent across the PIL and Tensor backends. To suppress this warning, directly pass antialias=True (recommended, future default), antialias=None (current default, which means False for Tensors and True for PIL), or antialias=False (only works on Tensors - PIL will still use antialiasing). This also applies if you are using the inference transforms from the models weights: update the call to weights.transforms(antialias=True).\n",
      "  warnings.warn(\n"
     ]
    },
    {
     "name": "stdout",
     "output_type": "stream",
     "text": [
      "Epoch: 0 Train Loss: 0.9518028545379639 Val Loss: 0.9658523609763697\n",
      "Epoch: 1 Train Loss: 0.9460074162483215 Val Loss: 0.9590368004221665\n",
      "Epoch: 2 Train Loss: 0.9405223806699117 Val Loss: 0.9493501045201954\n",
      "Epoch: 3 Train Loss: 0.9354141402244568 Val Loss: 0.9451653675029152\n",
      "Epoch: 4 Train Loss: 0.9305961275100708 Val Loss: 0.9413817054346988\n",
      "Epoch: 5 Train Loss: 0.9261611262957256 Val Loss: 0.937158150108237\n",
      "Epoch: 6 Train Loss: 0.9220320351918538 Val Loss: 0.9347476990599382\n",
      "Epoch: 7 Train Loss: 0.9181701238950094 Val Loss: 0.9339352563807839\n",
      "Epoch: 8 Train Loss: 0.9146210630734761 Val Loss: 0.9235319808909768\n",
      "Epoch: 9 Train Loss: 0.9113225626945496 Val Loss: 0.9278211405402735\n",
      "Epoch: 10 Train Loss: 0.9082182025909424 Val Loss: 0.9188628635908428\n",
      "Epoch: 11 Train Loss: 0.9053869350751241 Val Loss: 0.914839473209883\n",
      "Epoch: 12 Train Loss: 0.9027103447914123 Val Loss: 0.91742941266612\n",
      "Epoch: 13 Train Loss: 0.9002487150828044 Val Loss: 0.9094880725208082\n",
      "Epoch: 14 Train Loss: 0.8979640400409699 Val Loss: 0.9115084503826342\n",
      "Epoch: 15 Train Loss: 0.8958017635345459 Val Loss: 0.9048166604418504\n",
      "Epoch: 16 Train Loss: 0.8938131531079611 Val Loss: 0.9015272291083085\n",
      "Epoch: 17 Train Loss: 0.891964627901713 Val Loss: 0.9047405657015348\n",
      "Epoch: 18 Train Loss: 0.8901741131146749 Val Loss: 0.9040321174420809\n",
      "Epoch: 19 Train Loss: 0.8885510901610056 Val Loss: 0.9003092960307473\n",
      "Epoch: 20 Train Loss: 0.8869990547498067 Val Loss: 0.8976315581484845\n",
      "Epoch: 21 Train Loss: 0.8855335823694865 Val Loss: 0.8973063450110587\n",
      "Epoch: 22 Train Loss: 0.8841701225439708 Val Loss: 0.8956871879728217\n",
      "Epoch: 23 Train Loss: 0.8828502480189006 Val Loss: 0.8971908139555078\n",
      "Epoch: 24 Train Loss: 0.881633981068929 Val Loss: 0.8940952137896889\n",
      "Epoch: 25 Train Loss: 0.8804374670982361 Val Loss: 0.8933043119154478\n",
      "Epoch: 26 Train Loss: 0.879316262404124 Val Loss: 0.8868384235783627\n",
      "Epoch: 27 Train Loss: 0.8782234791914622 Val Loss: 0.8868873966367621\n",
      "Epoch: 28 Train Loss: 0.8771621787548065 Val Loss: 0.8852488037786985\n",
      "Epoch: 29 Train Loss: 0.8761273264884949 Val Loss: 0.893725941839971\n",
      "Epoch: 30 Train Loss: 0.8751019175847371 Val Loss: 0.8950781304585306\n",
      "Epoch: 31 Train Loss: 0.8740705653031667 Val Loss: 0.8913047792095887\n",
      "Epoch: 32 Train Loss: 0.8730358811219533 Val Loss: 0.885338082909584\n",
      "Epoch: 33 Train Loss: 0.8719446961085001 Val Loss: 0.8809411949233005\n",
      "Epoch: 34 Train Loss: 0.8707892779509226 Val Loss: 0.8789439656232533\n",
      "Epoch: 35 Train Loss: 0.8695598530769348 Val Loss: 0.8823297353167283\n",
      "Epoch: 36 Train Loss: 0.8681186290582021 Val Loss: 0.8891085723513051\n",
      "Epoch: 37 Train Loss: 0.8664626963933308 Val Loss: 0.8771802712427942\n",
      "Epoch: 38 Train Loss: 0.8644846149285634 Val Loss: 0.8741823717167503\n",
      "Epoch: 39 Train Loss: 0.8620760297775268 Val Loss: 0.8747187915601229\n",
      "Epoch: 40 Train Loss: 0.8590402801831564 Val Loss: 0.8626049600149456\n",
      "Epoch: 41 Train Loss: 0.8551486639181772 Val Loss: 0.8613728904410413\n",
      "Epoch: 42 Train Loss: 0.8499381804466247 Val Loss: 0.8584240745556982\n",
      "Epoch: 43 Train Loss: 0.8422982947031656 Val Loss: 0.850076835406454\n",
      "Epoch: 44 Train Loss: 0.8296141072114309 Val Loss: 0.8383479110504451\n",
      "Epoch: 45 Train Loss: 0.8067216531435648 Val Loss: 0.802752255609161\n",
      "Epoch: 46 Train Loss: 0.7649742396672566 Val Loss: 0.7503395002139243\n",
      "Epoch: 47 Train Loss: 0.704784281651179 Val Loss: 0.6922154465788289\n",
      "Epoch: 48 Train Loss: 0.6541388535499573 Val Loss: 0.6518527261520687\n",
      "Epoch: 49 Train Loss: 0.6229254964987437 Val Loss: 0.6218250417395642\n"
     ]
    }
   ],
   "source": [
    "import torch\n",
    "import torch.optim as optim\n",
    "import torch.nn as nn\n",
    "\n",
    "device = \"cuda\" if torch.cuda.is_available() else \"cpu\"\n",
    "autoencoder = Autoencoder().to(device=device)\n",
    "criterion = nn.MSELoss()\n",
    "optimizer = optim.SGD(autoencoder.parameters(), lr=0.001, momentum=0.9)\n",
    "\n",
    "N_EPOCHS = 50\n",
    "tr_loss_hist = []\n",
    "val_loss_hist = []\n",
    "\n",
    "for epoch in range(N_EPOCHS):\n",
    "\n",
    "    train_loss = 0.0\n",
    "    autoencoder.train()\n",
    "    \n",
    "    for inputs, _ in trainloader:\n",
    "        inputs = inputs.to(device)\n",
    "        \n",
    "        optimizer.zero_grad()\n",
    "\n",
    "        outputs = autoencoder(inputs)\n",
    "        resize_transform = transforms.Resize((224, 224))\n",
    "        outputs = resize_transform(outputs)\n",
    "        loss = criterion(outputs, inputs)\n",
    "\n",
    "        loss.backward()\n",
    "        optimizer.step()\n",
    "\n",
    "        train_loss += loss.item()\n",
    "\n",
    "    val_loss = 0.0\n",
    "    autoencoder.eval()\n",
    "    \n",
    "    for inputs, _ in valloader:\n",
    "        inputs = inputs.to(device)\n",
    "\n",
    "        outputs = autoencoder(inputs)\n",
    "        resize_transform = transforms.Resize((224, 224))\n",
    "        outputs = resize_transform(outputs)\n",
    "        loss = criterion(outputs, inputs)\n",
    "\n",
    "        val_loss += loss.item()\n",
    "\n",
    "    print(\"Epoch: {} Train Loss: {} Val Loss: {}\".format(\n",
    "        epoch, train_loss / len(trainloader), val_loss / len(valloader)))\n",
    "    tr_loss_hist.append(train_loss / len(trainloader))\n",
    "    val_loss_hist.append(val_loss / len(valloader))\n"
   ]
  },
  {
   "cell_type": "code",
   "execution_count": 10,
   "metadata": {},
   "outputs": [
    {
     "name": "stderr",
     "output_type": "stream",
     "text": [
      "Clipping input data to the valid range for imshow with RGB data ([0..1] for floats or [0..255] for integers).\n"
     ]
    },
    {
     "name": "stdout",
     "output_type": "stream",
     "text": [
      "50\n",
      "(3, 224, 224)\n",
      "(3, 217, 217)\n"
     ]
    },
    {
     "data": {
      "image/png": "[encoded data removed]",
      "text/plain": [
       "<Figure size 400x10000 with 2 Axes>"
      ]
     },
     "metadata": {},
     "output_type": "display_data"
    }
   ],
   "source": [
    "import matplotlib.pyplot as plt\n",
    "\n",
    "autoencoder.eval()\n",
    "originals = []\n",
    "reconstructed = []\n",
    "\n",
    "tset = DatasetFolder(root=r'RowanDLclassNEA/NEUdata_split/Test', loader=load_image, extensions=('.bmp',), transform=transform)\n",
    "\n",
    "test_loader = torch.utils.data.DataLoader(\n",
    "    tset,\n",
    "    batch_size=50,\n",
    "    shuffle=True)\n",
    "\n",
    "for inputs, _ in test_loader:\n",
    "    inputs = inputs.to(device)\n",
    "    outputs = autoencoder(inputs)\n",
    "\n",
    "    inputs_np = inputs.cpu().detach().numpy()\n",
    "    outputs_np = outputs.cpu().detach().numpy()\n",
    "\n",
    "    originals.extend(inputs_np)\n",
    "    reconstructed.extend(outputs_np)\n",
    "\n",
    "originals = np.array(originals)\n",
    "reconstructed = np.array(reconstructed)\n",
    "\n",
    "#print(reconstructed[0])\n",
    "\n",
    "num_images = len(originals[:50])\n",
    "\n",
    "\n",
    "fig = plt.figure(figsize=(4,100))\n",
    "\n",
    "print(num_images)\n",
    "\n",
    "for i in range(1):\n",
    "    fig.add_subplot(50,2,2*i+1)\n",
    "    print(originals[0].shape)\n",
    "    plt.imshow(originals[i].transpose((1, 2, 0)))  \n",
    "    fig.add_subplot(50,2,2*i+2)\n",
    "    print(reconstructed[0].shape)\n",
    "    plt.imshow(reconstructed[i].transpose((1, 2, 0)))  \n",
    "\n",
    "\n",
    "plt.show()\n"
   ]
  },
  {
   "cell_type": "code",
   "execution_count": 12,
   "metadata": {},
   "outputs": [],
   "source": [
    "torch.save(autoencoder.state_dict(),\"./AE_model.pt\")"
   ]
  },
  {
   "cell_type": "code",
   "execution_count": 7,
   "metadata": {},
   "outputs": [],
   "source": [
    "device = \"cuda\" if torch.cuda.is_available() else \"cpu\"\n",
    "autoencoder = Autoencoder().to(device=device)\n",
    "autoencoder_s = autoencoder.load_state_dict(torch.load(\"./AE_model.pt\",map_location=torch.device('cpu')))"
   ]
  },
  {
   "cell_type": "code",
   "execution_count": 14,
   "metadata": {},
   "outputs": [
    {
     "ename": "AttributeError",
     "evalue": "'_IncompatibleKeys' object has no attribute 'eval'",
     "output_type": "error",
     "traceback": [
      "\u001b[1;31m---------------------------------------------------------------------------\u001b[0m",
      "\u001b[1;31mAttributeError\u001b[0m                            Traceback (most recent call last)",
      "\u001b[1;32mc:\\Users\\yagna\\Documents\\DeepLearning\\Assignment 2\\DeepLearning_class\\Assignment 4\\Problem2.ipynb Cell 11\u001b[0m line \u001b[0;36m3\n\u001b[0;32m      <a href='vscode-notebook-cell:/c%3A/Users/yagna/Documents/DeepLearning/Assignment%202/DeepLearning_class/Assignment%204/Problem2.ipynb#X13sZmlsZQ%3D%3D?line=0'>1</a>\u001b[0m \u001b[39mimport\u001b[39;00m \u001b[39mmatplotlib\u001b[39;00m\u001b[39m.\u001b[39;00m\u001b[39mpyplot\u001b[39;00m \u001b[39mas\u001b[39;00m \u001b[39mplt\u001b[39;00m\n\u001b[1;32m----> <a href='vscode-notebook-cell:/c%3A/Users/yagna/Documents/DeepLearning/Assignment%202/DeepLearning_class/Assignment%204/Problem2.ipynb#X13sZmlsZQ%3D%3D?line=2'>3</a>\u001b[0m autoencoder_s\u001b[39m.\u001b[39;49meval()\n\u001b[0;32m      <a href='vscode-notebook-cell:/c%3A/Users/yagna/Documents/DeepLearning/Assignment%202/DeepLearning_class/Assignment%204/Problem2.ipynb#X13sZmlsZQ%3D%3D?line=3'>4</a>\u001b[0m originals \u001b[39m=\u001b[39m []\n\u001b[0;32m      <a href='vscode-notebook-cell:/c%3A/Users/yagna/Documents/DeepLearning/Assignment%202/DeepLearning_class/Assignment%204/Problem2.ipynb#X13sZmlsZQ%3D%3D?line=4'>5</a>\u001b[0m reconstructed \u001b[39m=\u001b[39m []\n",
      "\u001b[1;31mAttributeError\u001b[0m: '_IncompatibleKeys' object has no attribute 'eval'"
     ]
    }
   ],
   "source": [
    "import matplotlib.pyplot as plt\n",
    "\n",
    "autoencoder_s.eval()\n",
    "originals = []\n",
    "reconstructed = []\n",
    "\n",
    "tset = DatasetFolder(root=r'RowanDLclassNEA/NEUdata_split/Test', loader=load_image, extensions=('.bmp',), transform=transform)\n",
    "\n",
    "test_loader = torch.utils.data.DataLoader(\n",
    "    tset,\n",
    "    batch_size=50,\n",
    "    shuffle=True)\n",
    "\n",
    "for inputs, _ in test_loader:\n",
    "    inputs = inputs.to(device)\n",
    "    outputs = autoencoder_s(inputs)\n",
    "\n",
    "    inputs_np = inputs.cpu().detach().numpy()\n",
    "    outputs_np = outputs.cpu().detach().numpy()\n",
    "\n",
    "    originals.extend(inputs_np)\n",
    "    reconstructed.extend(outputs_np)\n",
    "\n",
    "originals = np.array(originals)\n",
    "reconstructed = np.array(reconstructed)\n",
    "\n",
    "#print(reconstructed[0])\n",
    "\n",
    "num_images = len(originals[:50])\n",
    "\n",
    "\n",
    "fig = plt.figure(figsize=(4,100))\n",
    "\n",
    "print(num_images)\n",
    "\n",
    "for i in range(1):\n",
    "    fig.add_subplot(50,2,2*i+1)\n",
    "    print(originals[0].shape)\n",
    "    plt.imshow(originals[i].transpose((1, 2, 0)))  \n",
    "    fig.add_subplot(50,2,2*i+2)\n",
    "    print(reconstructed[0].shape)\n",
    "    plt.imshow(reconstructed[i].transpose((1, 2, 0)))  \n",
    "\n",
    "\n",
    "plt.show()\n"
   ]
  },
  {
   "cell_type": "code",
   "execution_count": null,
   "metadata": {},
   "outputs": [],
   "source": []
  }
 ],
 "metadata": {
  "kernelspec": {
   "display_name": "Python 3 (ipykernel)",
   "language": "python",
   "name": "python3"
  },
  "language_info": {
   "codemirror_mode": {
    "name": "ipython",
    "version": 3
   },
   "file_extension": ".py",
   "mimetype": "text/x-python",
   "name": "python",
   "nbconvert_exporter": "python",
   "pygments_lexer": "ipython3",
   "version": "3.11.6"
  }
 },
 "nbformat": 4,
 "nbformat_minor": 4
}

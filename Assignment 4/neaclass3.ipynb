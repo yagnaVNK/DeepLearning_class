{
 "cells": [
  {
   "cell_type": "code",
   "execution_count": 1,
   "id": "228f5af7-b9c8-4a1e-9abd-35a6e1b6d8d2",
   "metadata": {},
   "outputs": [],
   "source": [
    "import torch"
   ]
  },
  {
   "cell_type": "code",
   "execution_count": 2,
   "id": "3b2f1fd4-b6b0-4330-af80-24f4624e3393",
   "metadata": {},
   "outputs": [],
   "source": [
    "import os\n",
    "from PIL import Image\n",
    "from torchvision import transforms\n",
    "from torchvision.datasets import DatasetFolder\n",
    "import cv2\n",
    "import numpy as np\n",
    "\n",
    "\n",
    "def load_image(img_path:str):    \n",
    "        np_img = cv2.imread(img_path) #CV2 to open and convert BMP mages into NUMPY    \n",
    "        #np_img_gray = cv2.imread(img_path, cv2.IMREAD_GRAYSCALE)\n",
    "        return Image.fromarray(np_img)  #we need Image for the transforms to work correctly\n",
    "\n",
    "dset = DatasetFolder(root='NEUdata', loader = load_image, extensions = ('.bmp',))\n"
   ]
  },
  {
   "cell_type": "markdown",
   "id": "d49e6a98-0e21-410f-b340-8f628a522d6b",
   "metadata": {},
   "source": [
    "# We need to write a transform to make it compatible with resnet18 (size 224x224x3, and type tensor)"
   ]
  },
  {
   "cell_type": "code",
   "execution_count": 3,
   "id": "4b7a2429-8769-459e-8fa2-d76ea098f7c7",
   "metadata": {},
   "outputs": [],
   "source": [
    "from torchvision import transforms\n",
    "\n",
    "transform = transforms.Compose([\n",
    "  transforms.Resize(256),\n",
    "  transforms.CenterCrop(224),\n",
    "  transforms.ToTensor(),\n",
    "  transforms.Normalize(\n",
    "      mean=[0.485, 0.456, 0.406],\n",
    "      std=[0.229, 0.224, 0.225])])\n",
    "\n",
    "dset = DatasetFolder(root='NEUdata', loader = load_image, extensions = ('.bmp',), transform = transform)"
   ]
  },
  {
   "cell_type": "markdown",
   "id": "d888624c-cde0-4592-b81f-0ede3eb81d70",
   "metadata": {},
   "source": [
    "### Note that load_image  needed to return a PIL.Image for the transforms to be correctly applied\n"
   ]
  },
  {
   "cell_type": "code",
   "execution_count": 4,
   "id": "5c626d8b-e903-4570-84a6-98ab02b6599d",
   "metadata": {},
   "outputs": [
    {
     "name": "stdout",
     "output_type": "stream",
     "text": [
      "75\n",
      "38\n"
     ]
    }
   ],
   "source": [
    "from torch.utils.data import random_split\n",
    "\n",
    "train_set, val_set = random_split(\n",
    "                      dset, \n",
    "                      [1200, 600])\n",
    "\n",
    "trainloader = torch.utils.data.DataLoader(\n",
    "                    train_set, \n",
    "                    batch_size=16, \n",
    "                    shuffle=True)\n",
    "\n",
    "valloader = torch.utils.data.DataLoader(\n",
    "                    val_set, \n",
    "                    batch_size=16, \n",
    "                    shuffle=True)\n",
    "\n",
    "print(len(trainloader))\n",
    "# out: 2500\n",
    "print(len(valloader))\n",
    "# out: 625"
   ]
  },
  {
   "cell_type": "markdown",
   "id": "1b4df227-ff40-4582-9390-67fc15538bcc",
   "metadata": {},
   "source": [
    " ### We are going to illustrate transfer learning now\n",
    "Transfer starts with a pretrained model from the torchvision library. The pretrained model will be resnet18. This model is trained on ImageNet 1K (this is the default for resnet18: DEFAULT = IMAGENET1K_V1)\n",
    "The fact that ImageNet consists of RGB images of size 224 x 224 demanded our data resizing in the transform"
   ]
  },
  {
   "cell_type": "code",
   "execution_count": 1,
   "id": "dfc177fa-4ef9-43b6-ac5e-ab08db53b67d",
   "metadata": {},
   "outputs": [
    {
     "name": "stderr",
     "output_type": "stream",
     "text": [
      "Downloading: \"https://download.pytorch.org/models/resnet18-f37072fd.pth\" to C:\\Users\\kaasa/.cache\\torch\\hub\\checkpoints\\resnet18-f37072fd.pth\n",
      "100.0%\n"
     ]
    },
    {
     "data": {
      "text/plain": [
       "==========================================================================================\n",
       "Layer (type:depth-idx)                   Output Shape              Param #\n",
       "==========================================================================================\n",
       "ResNet                                   [16, 1000]                --\n",
       "+ Conv2d: 1-1                            [16, 64, 112, 112]        9,408\n",
       "+ BatchNorm2d: 1-2                       [16, 64, 112, 112]        128\n",
       "+ ReLU: 1-3                              [16, 64, 112, 112]        --\n",
       "+ MaxPool2d: 1-4                         [16, 64, 56, 56]          --\n",
       "+ Sequential: 1-5                        [16, 64, 56, 56]          --\n",
       "|    + BasicBlock: 2-1                   [16, 64, 56, 56]          --\n",
       "|    |    + Conv2d: 3-1                  [16, 64, 56, 56]          36,864\n",
       "|    |    + BatchNorm2d: 3-2             [16, 64, 56, 56]          128\n",
       "|    |    + ReLU: 3-3                    [16, 64, 56, 56]          --\n",
       "|    |    + Conv2d: 3-4                  [16, 64, 56, 56]          36,864\n",
       "|    |    + BatchNorm2d: 3-5             [16, 64, 56, 56]          128\n",
       "|    |    + ReLU: 3-6                    [16, 64, 56, 56]          --\n",
       "|    + BasicBlock: 2-2                   [16, 64, 56, 56]          --\n",
       "|    |    + Conv2d: 3-7                  [16, 64, 56, 56]          36,864\n",
       "|    |    + BatchNorm2d: 3-8             [16, 64, 56, 56]          128\n",
       "|    |    + ReLU: 3-9                    [16, 64, 56, 56]          --\n",
       "|    |    + Conv2d: 3-10                 [16, 64, 56, 56]          36,864\n",
       "|    |    + BatchNorm2d: 3-11            [16, 64, 56, 56]          128\n",
       "|    |    + ReLU: 3-12                   [16, 64, 56, 56]          --\n",
       "+ Sequential: 1-6                        [16, 128, 28, 28]         --\n",
       "|    + BasicBlock: 2-3                   [16, 128, 28, 28]         --\n",
       "|    |    + Conv2d: 3-13                 [16, 128, 28, 28]         73,728\n",
       "|    |    + BatchNorm2d: 3-14            [16, 128, 28, 28]         256\n",
       "|    |    + ReLU: 3-15                   [16, 128, 28, 28]         --\n",
       "|    |    + Conv2d: 3-16                 [16, 128, 28, 28]         147,456\n",
       "|    |    + BatchNorm2d: 3-17            [16, 128, 28, 28]         256\n",
       "|    |    + Sequential: 3-18             [16, 128, 28, 28]         8,448\n",
       "|    |    + ReLU: 3-19                   [16, 128, 28, 28]         --\n",
       "|    + BasicBlock: 2-4                   [16, 128, 28, 28]         --\n",
       "|    |    + Conv2d: 3-20                 [16, 128, 28, 28]         147,456\n",
       "|    |    + BatchNorm2d: 3-21            [16, 128, 28, 28]         256\n",
       "|    |    + ReLU: 3-22                   [16, 128, 28, 28]         --\n",
       "|    |    + Conv2d: 3-23                 [16, 128, 28, 28]         147,456\n",
       "|    |    + BatchNorm2d: 3-24            [16, 128, 28, 28]         256\n",
       "|    |    + ReLU: 3-25                   [16, 128, 28, 28]         --\n",
       "+ Sequential: 1-7                        [16, 256, 14, 14]         --\n",
       "|    + BasicBlock: 2-5                   [16, 256, 14, 14]         --\n",
       "|    |    + Conv2d: 3-26                 [16, 256, 14, 14]         294,912\n",
       "|    |    + BatchNorm2d: 3-27            [16, 256, 14, 14]         512\n",
       "|    |    + ReLU: 3-28                   [16, 256, 14, 14]         --\n",
       "|    |    + Conv2d: 3-29                 [16, 256, 14, 14]         589,824\n",
       "|    |    + BatchNorm2d: 3-30            [16, 256, 14, 14]         512\n",
       "|    |    + Sequential: 3-31             [16, 256, 14, 14]         33,280\n",
       "|    |    + ReLU: 3-32                   [16, 256, 14, 14]         --\n",
       "|    + BasicBlock: 2-6                   [16, 256, 14, 14]         --\n",
       "|    |    + Conv2d: 3-33                 [16, 256, 14, 14]         589,824\n",
       "|    |    + BatchNorm2d: 3-34            [16, 256, 14, 14]         512\n",
       "|    |    + ReLU: 3-35                   [16, 256, 14, 14]         --\n",
       "|    |    + Conv2d: 3-36                 [16, 256, 14, 14]         589,824\n",
       "|    |    + BatchNorm2d: 3-37            [16, 256, 14, 14]         512\n",
       "|    |    + ReLU: 3-38                   [16, 256, 14, 14]         --\n",
       "+ Sequential: 1-8                        [16, 512, 7, 7]           --\n",
       "|    + BasicBlock: 2-7                   [16, 512, 7, 7]           --\n",
       "|    |    + Conv2d: 3-39                 [16, 512, 7, 7]           1,179,648\n",
       "|    |    + BatchNorm2d: 3-40            [16, 512, 7, 7]           1,024\n",
       "|    |    + ReLU: 3-41                   [16, 512, 7, 7]           --\n",
       "|    |    + Conv2d: 3-42                 [16, 512, 7, 7]           2,359,296\n",
       "|    |    + BatchNorm2d: 3-43            [16, 512, 7, 7]           1,024\n",
       "|    |    + Sequential: 3-44             [16, 512, 7, 7]           132,096\n",
       "|    |    + ReLU: 3-45                   [16, 512, 7, 7]           --\n",
       "|    + BasicBlock: 2-8                   [16, 512, 7, 7]           --\n",
       "|    |    + Conv2d: 3-46                 [16, 512, 7, 7]           2,359,296\n",
       "|    |    + BatchNorm2d: 3-47            [16, 512, 7, 7]           1,024\n",
       "|    |    + ReLU: 3-48                   [16, 512, 7, 7]           --\n",
       "|    |    + Conv2d: 3-49                 [16, 512, 7, 7]           2,359,296\n",
       "|    |    + BatchNorm2d: 3-50            [16, 512, 7, 7]           1,024\n",
       "|    |    + ReLU: 3-51                   [16, 512, 7, 7]           --\n",
       "+ AdaptiveAvgPool2d: 1-9                 [16, 512, 1, 1]           --\n",
       "+ Linear: 1-10                           [16, 1000]                513,000\n",
       "==========================================================================================\n",
       "Total params: 11,689,512\n",
       "Trainable params: 11,689,512\n",
       "Non-trainable params: 0\n",
       "Total mult-adds (G): 29.03\n",
       "==========================================================================================\n",
       "Input size (MB): 9.63\n",
       "Forward/backward pass size (MB): 635.96\n",
       "Params size (MB): 46.76\n",
       "Estimated Total Size (MB): 692.35\n",
       "=========================================================================================="
      ]
     },
     "execution_count": 1,
     "metadata": {},
     "output_type": "execute_result"
    }
   ],
   "source": [
    "import torchvision.models as models\n",
    "import torch.nn as nn\n",
    "from torchinfo import summary\n",
    "\n",
    "orig_model = models.resnet18(weights = models.ResNet18_Weights.IMAGENET1K_V1)\n",
    "summary(orig_model, input_size=(16, 3, 224, 224), row_settings=(\"depth\", \"ascii_only\"))"
   ]
  },
  {
   "cell_type": "markdown",
   "id": "9d268cdf-5f4c-46dc-a82c-a4b5ce2830f9",
   "metadata": {},
   "source": [
    "### notice that the last layer of the resnet18 is a linear layer with output size 1000\n",
    "\n",
    "We will first deepcopy  orig_model (where we instantiated resnet18 with pretrained weights): this will create an INDEPENDENT graph\n",
    "\n",
    "Then just replace model.fc with the linear layer\n"
   ]
  },
  {
   "cell_type": "code",
   "execution_count": 6,
   "id": "fe28699e-7982-4784-88a3-2b0b668d2ef7",
   "metadata": {},
   "outputs": [],
   "source": [
    "import copy\n",
    "alt_model = copy.deepcopy(orig_model)\n",
    "alt_model.fc = nn.Linear(512,6)"
   ]
  },
  {
   "cell_type": "code",
   "execution_count": 7,
   "id": "46ef3bce-d262-41a4-9d57-27b96d2fb9de",
   "metadata": {},
   "outputs": [
    {
     "name": "stdout",
     "output_type": "stream",
     "text": [
      "Epoch: 0 Train Loss: 0.8631071456273397 Val Loss: 0.24676553003097834\n",
      "Epoch: 1 Train Loss: 0.27639738857746127 Val Loss: 0.11689942594813674\n",
      "Epoch: 2 Train Loss: 0.1772522840400537 Val Loss: 0.06657591721925296\n",
      "Epoch: 3 Train Loss: 0.11391199211279551 Val Loss: 0.046162082188713705\n",
      "Epoch: 4 Train Loss: 0.0856763201703628 Val Loss: 0.032873891490070445\n",
      "Epoch: 5 Train Loss: 0.06505793274690708 Val Loss: 0.025320702318200154\n",
      "Epoch: 6 Train Loss: 0.051083331803480785 Val Loss: 0.019562941571501524\n",
      "Epoch: 7 Train Loss: 0.04918708273520072 Val Loss: 0.018379512776032482\n",
      "Epoch: 8 Train Loss: 0.03969095819319288 Val Loss: 0.01500527777611033\n",
      "Epoch: 9 Train Loss: 0.035566203190634645 Val Loss: 0.014180156776044322\n",
      "Epoch: 10 Train Loss: 0.030606326693668962 Val Loss: 0.011691182557689516\n",
      "Epoch: 11 Train Loss: 0.03325951424737771 Val Loss: 0.011698495057460508\n",
      "Epoch: 12 Train Loss: 0.027382895639166235 Val Loss: 0.010703309598427854\n",
      "Epoch: 13 Train Loss: 0.023935837267587582 Val Loss: 0.007675768639034543\n",
      "Epoch: 14 Train Loss: 0.024201678580914935 Val Loss: 0.00782071121073769\n",
      "Epoch: 15 Train Loss: 0.025381945767439903 Val Loss: 0.00849268001528751\n",
      "Epoch: 16 Train Loss: 0.021008758846049507 Val Loss: 0.007501776328641235\n",
      "Epoch: 17 Train Loss: 0.024408964736697573 Val Loss: 0.007347352379982017\n",
      "Epoch: 18 Train Loss: 0.016871111725146572 Val Loss: 0.005266361804005052\n",
      "Epoch: 19 Train Loss: 0.01768644941970706 Val Loss: 0.005692249165517033\n"
     ]
    }
   ],
   "source": [
    "from torch import optim\n",
    "from torch import nn\n",
    "import torch.optim.lr_scheduler as lr_scheduler\n",
    "\n",
    "criterion = nn.CrossEntropyLoss()\n",
    "device = \"cuda\" if torch.cuda.is_available() else \"cpu\"\n",
    "model = alt_model.to(device)\n",
    "\n",
    "optimizer = optim.SGD(model.parameters(), \n",
    "                      lr=0.001, \n",
    "                      momentum=0.9)\n",
    " \n",
    "scheduler = lr_scheduler.LinearLR(optimizer, start_factor=1.0, end_factor=0.25, total_iters=10)\n",
    "\n",
    "\n",
    "#from torch.utils.tensorboard import SummaryWriter\n",
    "\n",
    "\n",
    "\n",
    "N_EPOCHS = 20\n",
    "tr_loss_hist = []\n",
    "val_loss_hist = []\n",
    "for epoch in range(N_EPOCHS):\n",
    "\n",
    "    # Training \n",
    "    train_loss = 0.0\n",
    "    model.train() # <1>\n",
    "    for inputs, labels in trainloader:\n",
    "        inputs = inputs.to(device)\n",
    "        labels = labels.to(device)\n",
    "\n",
    "        optimizer.zero_grad()\n",
    "\n",
    "        outputs = model(inputs)\n",
    "        loss = criterion(outputs, labels)\n",
    "        loss.backward()\n",
    "        optimizer.step()\n",
    "        scheduler.step()\n",
    "\n",
    "        train_loss += loss.item()\n",
    "\n",
    "    # Validation\n",
    "    val_loss = 0.0\n",
    "    model.eval() # <2>\n",
    "    for inputs, labels in valloader:\n",
    "        inputs = inputs.to(device)\n",
    "        labels = labels.to(device)\n",
    "\n",
    "        outputs = model(inputs)\n",
    "        loss = criterion(outputs, labels)\n",
    "\n",
    "        val_loss += loss.item()\n",
    "\n",
    "    print(\"Epoch: {} Train Loss: {} Val Loss: {}\".format(\n",
    "                  epoch, \n",
    "                  train_loss/len(trainloader), \n",
    "                  val_loss/len(valloader)))\n",
    "    tr_loss_hist.append(train_loss/len(trainloader))\n",
    "    val_loss_hist.append(val_loss/len(valloader))"
   ]
  },
  {
   "cell_type": "code",
   "execution_count": 8,
   "id": "f451c814-d33f-450a-be31-3e2db24fea44",
   "metadata": {},
   "outputs": [
    {
     "data": {
      "text/plain": [
       "Text(0.5, 1.0, 'Loss Curves')"
      ]
     },
     "execution_count": 8,
     "metadata": {},
     "output_type": "execute_result"
    },
    {
     "data": {
      "image/png": "[encoded data removed]",
      "text/plain": [
       "<Figure size 600x400 with 1 Axes>"
      ]
     },
     "metadata": {},
     "output_type": "display_data"
    }
   ],
   "source": [
    "import matplotlib.pyplot as plt\n",
    "\n",
    "# Plotting the loss curve\n",
    "plt.figure(figsize=[6,4])\n",
    "plt.plot(tr_loss_hist, 'black', linewidth=2.0)\n",
    "plt.plot(val_loss_hist, 'blue', linewidth=2.0)\n",
    "plt.legend(['Training Loss', 'Validation Loss'], fontsize=14)\n",
    "plt.xlabel('Epochs', fontsize=10)\n",
    "plt.ylabel('Loss', fontsize=10)\n",
    "plt.title('Loss Curves', fontsize=12)"
   ]
  },
  {
   "cell_type": "markdown",
   "id": "ea245a78-9c59-4924-bfb3-5aa031d8ec7a",
   "metadata": {},
   "source": [
    "#### This is a different way of changing the resnet18\n",
    "\n",
    "Let's get rid of the last layer of the resnet18 (output size 1000), because we have only 6 classes!\n",
    "\n",
    "Plus, add the FlattenLayer to see what is the linearized size of the last AvgPool\n",
    "\n",
    "We will use this shortened model (vec_model) to build upon it later, but first we will **freeze its parameters** (disable further training)\n"
   ]
  },
  {
   "cell_type": "code",
   "execution_count": 16,
   "id": "c4c35f73-1f7a-4088-8637-b64d5c17db2a",
   "metadata": {},
   "outputs": [],
   "source": [
    "layers = list(orig_model.children())[:-1]  #get all the layers except the last one\n",
    "layers.append(nn.Flatten())   \n",
    "vec_model = nn.Sequential(*layers)\n",
    "for param in vec_model.parameters():\n",
    "    param.requires_grad = False"
   ]
  },
  {
   "cell_type": "markdown",
   "id": "bc84cf53-df54-4468-b87f-0a0187a8271c",
   "metadata": {},
   "source": [
    "## Here we will add linear layer to the frozen vec_model"
   ]
  },
  {
   "cell_type": "code",
   "execution_count": 10,
   "id": "2da6a276-c684-43b0-abf8-3be9b835977f",
   "metadata": {},
   "outputs": [
    {
     "data": {
      "text/plain": [
       "==========================================================================================\n",
       "Layer (type:depth-idx)                   Output Shape              Param #\n",
       "==========================================================================================\n",
       "Sequential                               [16, 6]                   --\n",
       "+ Conv2d: 1-1                            [16, 64, 112, 112]        (9,408)\n",
       "+ BatchNorm2d: 1-2                       [16, 64, 112, 112]        (128)\n",
       "+ ReLU: 1-3                              [16, 64, 112, 112]        --\n",
       "+ MaxPool2d: 1-4                         [16, 64, 56, 56]          --\n",
       "+ Sequential: 1-5                        [16, 64, 56, 56]          --\n",
       "|    + BasicBlock: 2-1                   [16, 64, 56, 56]          --\n",
       "|    |    + Conv2d: 3-1                  [16, 64, 56, 56]          (36,864)\n",
       "|    |    + BatchNorm2d: 3-2             [16, 64, 56, 56]          (128)\n",
       "|    |    + ReLU: 3-3                    [16, 64, 56, 56]          --\n",
       "|    |    + Conv2d: 3-4                  [16, 64, 56, 56]          (36,864)\n",
       "|    |    + BatchNorm2d: 3-5             [16, 64, 56, 56]          (128)\n",
       "|    |    + ReLU: 3-6                    [16, 64, 56, 56]          --\n",
       "|    + BasicBlock: 2-2                   [16, 64, 56, 56]          --\n",
       "|    |    + Conv2d: 3-7                  [16, 64, 56, 56]          (36,864)\n",
       "|    |    + BatchNorm2d: 3-8             [16, 64, 56, 56]          (128)\n",
       "|    |    + ReLU: 3-9                    [16, 64, 56, 56]          --\n",
       "|    |    + Conv2d: 3-10                 [16, 64, 56, 56]          (36,864)\n",
       "|    |    + BatchNorm2d: 3-11            [16, 64, 56, 56]          (128)\n",
       "|    |    + ReLU: 3-12                   [16, 64, 56, 56]          --\n",
       "+ Sequential: 1-6                        [16, 128, 28, 28]         --\n",
       "|    + BasicBlock: 2-3                   [16, 128, 28, 28]         --\n",
       "|    |    + Conv2d: 3-13                 [16, 128, 28, 28]         (73,728)\n",
       "|    |    + BatchNorm2d: 3-14            [16, 128, 28, 28]         (256)\n",
       "|    |    + ReLU: 3-15                   [16, 128, 28, 28]         --\n",
       "|    |    + Conv2d: 3-16                 [16, 128, 28, 28]         (147,456)\n",
       "|    |    + BatchNorm2d: 3-17            [16, 128, 28, 28]         (256)\n",
       "|    |    + Sequential: 3-18             [16, 128, 28, 28]         (8,448)\n",
       "|    |    + ReLU: 3-19                   [16, 128, 28, 28]         --\n",
       "|    + BasicBlock: 2-4                   [16, 128, 28, 28]         --\n",
       "|    |    + Conv2d: 3-20                 [16, 128, 28, 28]         (147,456)\n",
       "|    |    + BatchNorm2d: 3-21            [16, 128, 28, 28]         (256)\n",
       "|    |    + ReLU: 3-22                   [16, 128, 28, 28]         --\n",
       "|    |    + Conv2d: 3-23                 [16, 128, 28, 28]         (147,456)\n",
       "|    |    + BatchNorm2d: 3-24            [16, 128, 28, 28]         (256)\n",
       "|    |    + ReLU: 3-25                   [16, 128, 28, 28]         --\n",
       "+ Sequential: 1-7                        [16, 256, 14, 14]         --\n",
       "|    + BasicBlock: 2-5                   [16, 256, 14, 14]         --\n",
       "|    |    + Conv2d: 3-26                 [16, 256, 14, 14]         (294,912)\n",
       "|    |    + BatchNorm2d: 3-27            [16, 256, 14, 14]         (512)\n",
       "|    |    + ReLU: 3-28                   [16, 256, 14, 14]         --\n",
       "|    |    + Conv2d: 3-29                 [16, 256, 14, 14]         (589,824)\n",
       "|    |    + BatchNorm2d: 3-30            [16, 256, 14, 14]         (512)\n",
       "|    |    + Sequential: 3-31             [16, 256, 14, 14]         (33,280)\n",
       "|    |    + ReLU: 3-32                   [16, 256, 14, 14]         --\n",
       "|    + BasicBlock: 2-6                   [16, 256, 14, 14]         --\n",
       "|    |    + Conv2d: 3-33                 [16, 256, 14, 14]         (589,824)\n",
       "|    |    + BatchNorm2d: 3-34            [16, 256, 14, 14]         (512)\n",
       "|    |    + ReLU: 3-35                   [16, 256, 14, 14]         --\n",
       "|    |    + Conv2d: 3-36                 [16, 256, 14, 14]         (589,824)\n",
       "|    |    + BatchNorm2d: 3-37            [16, 256, 14, 14]         (512)\n",
       "|    |    + ReLU: 3-38                   [16, 256, 14, 14]         --\n",
       "+ Sequential: 1-8                        [16, 512, 7, 7]           --\n",
       "|    + BasicBlock: 2-7                   [16, 512, 7, 7]           --\n",
       "|    |    + Conv2d: 3-39                 [16, 512, 7, 7]           (1,179,648)\n",
       "|    |    + BatchNorm2d: 3-40            [16, 512, 7, 7]           (1,024)\n",
       "|    |    + ReLU: 3-41                   [16, 512, 7, 7]           --\n",
       "|    |    + Conv2d: 3-42                 [16, 512, 7, 7]           (2,359,296)\n",
       "|    |    + BatchNorm2d: 3-43            [16, 512, 7, 7]           (1,024)\n",
       "|    |    + Sequential: 3-44             [16, 512, 7, 7]           (132,096)\n",
       "|    |    + ReLU: 3-45                   [16, 512, 7, 7]           --\n",
       "|    + BasicBlock: 2-8                   [16, 512, 7, 7]           --\n",
       "|    |    + Conv2d: 3-46                 [16, 512, 7, 7]           (2,359,296)\n",
       "|    |    + BatchNorm2d: 3-47            [16, 512, 7, 7]           (1,024)\n",
       "|    |    + ReLU: 3-48                   [16, 512, 7, 7]           --\n",
       "|    |    + Conv2d: 3-49                 [16, 512, 7, 7]           (2,359,296)\n",
       "|    |    + BatchNorm2d: 3-50            [16, 512, 7, 7]           (1,024)\n",
       "|    |    + ReLU: 3-51                   [16, 512, 7, 7]           --\n",
       "+ AdaptiveAvgPool2d: 1-9                 [16, 512, 1, 1]           --\n",
       "+ Flatten: 1-10                          [16, 512]                 --\n",
       "+ Linear: 1-11                           [16, 6]                   3,078\n",
       "==========================================================================================\n",
       "Total params: 11,179,590\n",
       "Trainable params: 3,078\n",
       "Non-trainable params: 11,176,512\n",
       "Total mult-adds (G): 29.02\n",
       "==========================================================================================\n",
       "Input size (MB): 9.63\n",
       "Forward/backward pass size (MB): 635.83\n",
       "Params size (MB): 44.72\n",
       "Estimated Total Size (MB): 690.18\n",
       "=========================================================================================="
      ]
     },
     "execution_count": 10,
     "metadata": {},
     "output_type": "execute_result"
    }
   ],
   "source": [
    "layers = list(vec_model.children())  #get all the layers except the last one\n",
    "layers.append(nn.Linear(512,6))\n",
    "vec_model = nn.Sequential(*layers)\n",
    "summary(vec_model, input_size=(16, 3, 224, 224), row_settings=(\"depth\", \"ascii_only\"))"
   ]
  },
  {
   "cell_type": "markdown",
   "id": "97b49f74-1503-4a8c-839b-0325aec16092",
   "metadata": {},
   "source": [
    "#### Train vec_model"
   ]
  },
  {
   "cell_type": "code",
   "execution_count": 11,
   "id": "ec70bfa6-fdc3-4345-8803-0a50683f9878",
   "metadata": {},
   "outputs": [
    {
     "name": "stdout",
     "output_type": "stream",
     "text": [
      "Epoch: 0 Train Loss: 1.3056162770589193 Val Loss: 0.8239125201576635\n",
      "Epoch: 1 Train Loss: 0.7106140987078349 Val Loss: 0.49192120448539134\n",
      "Epoch: 2 Train Loss: 0.5047559682528178 Val Loss: 0.3645024730970985\n",
      "Epoch: 3 Train Loss: 0.41496810535589856 Val Loss: 0.2896735679946448\n",
      "Epoch: 4 Train Loss: 0.3395553710063299 Val Loss: 0.24312684410496763\n",
      "Epoch: 5 Train Loss: 0.3108992393811544 Val Loss: 0.21556438505649567\n",
      "Epoch: 6 Train Loss: 0.26782079637050626 Val Loss: 0.18951090327218958\n",
      "Epoch: 7 Train Loss: 0.2588103175163269 Val Loss: 0.17277259418838903\n",
      "Epoch: 8 Train Loss: 0.23078989108403525 Val Loss: 0.15869224110716268\n",
      "Epoch: 9 Train Loss: 0.2159466294447581 Val Loss: 0.15255907383796416\n",
      "Epoch: 10 Train Loss: 0.2097770470380783 Val Loss: 0.13706471467096554\n",
      "Epoch: 11 Train Loss: 0.2002258677780628 Val Loss: 0.13217406925794326\n",
      "Epoch: 12 Train Loss: 0.1935066453119119 Val Loss: 0.12160323932766914\n",
      "Epoch: 13 Train Loss: 0.19599994083245595 Val Loss: 0.11892050779179524\n",
      "Epoch: 14 Train Loss: 0.16629115670919417 Val Loss: 0.11541497413265078\n",
      "Epoch: 15 Train Loss: 0.15710227603713672 Val Loss: 0.1129794497729132\n",
      "Epoch: 16 Train Loss: 0.18320003286004066 Val Loss: 0.11644227616488934\n",
      "Epoch: 17 Train Loss: 0.1749192751944065 Val Loss: 0.1006404128611872\n",
      "Epoch: 18 Train Loss: 0.14839033434788387 Val Loss: 0.09733920534582514\n",
      "Epoch: 19 Train Loss: 0.15887568165858587 Val Loss: 0.09153568690740749\n"
     ]
    }
   ],
   "source": [
    "from torch import optim\n",
    "from torch import nn\n",
    "import torch.optim.lr_scheduler as lr_scheduler\n",
    "\n",
    "criterion = nn.CrossEntropyLoss()\n",
    "device = \"cuda\" if torch.cuda.is_available() else \"cpu\"\n",
    "model = vec_model.to(device)\n",
    "\n",
    "optimizer = optim.SGD(model.parameters(), \n",
    "                      lr=0.001, \n",
    "                      momentum=0.9)\n",
    " \n",
    "scheduler = lr_scheduler.LinearLR(optimizer, start_factor=1.0, end_factor=0.25, total_iters=10)\n",
    "\n",
    "\n",
    "#from torch.utils.tensorboard import SummaryWriter\n",
    "\n",
    "N_EPOCHS = 20\n",
    "tr_loss_hist = []\n",
    "val_loss_hist = []\n",
    "for epoch in range(N_EPOCHS):\n",
    "\n",
    "    # Training \n",
    "    train_loss = 0.0\n",
    "    model.train() # <1>\n",
    "    for inputs, labels in trainloader:\n",
    "        inputs = inputs.to(device)\n",
    "        labels = labels.to(device)\n",
    "\n",
    "        optimizer.zero_grad()\n",
    "\n",
    "        outputs = model(inputs)\n",
    "        loss = criterion(outputs, labels)\n",
    "        loss.backward()\n",
    "        optimizer.step()\n",
    "        scheduler.step()\n",
    "\n",
    "        train_loss += loss.item()\n",
    "\n",
    "    # Validation\n",
    "    val_loss = 0.0\n",
    "    model.eval() # <2>\n",
    "    for inputs, labels in valloader:\n",
    "        inputs = inputs.to(device)\n",
    "        labels = labels.to(device)\n",
    "\n",
    "        outputs = model(inputs)\n",
    "        loss = criterion(outputs, labels)\n",
    "\n",
    "        val_loss += loss.item()\n",
    "\n",
    "    print(\"Epoch: {} Train Loss: {} Val Loss: {}\".format(\n",
    "                  epoch, \n",
    "                  train_loss/len(trainloader), \n",
    "                  val_loss/len(valloader)))\n",
    "    tr_loss_hist.append(train_loss/len(trainloader))\n",
    "    val_loss_hist.append(val_loss/len(valloader))"
   ]
  },
  {
   "cell_type": "code",
   "execution_count": 12,
   "id": "520a4c16-b215-4a98-9549-86d31e0fd7bb",
   "metadata": {},
   "outputs": [
    {
     "data": {
      "text/plain": [
       "Text(0.5, 1.0, 'Loss Curves')"
      ]
     },
     "execution_count": 12,
     "metadata": {},
     "output_type": "execute_result"
    },
    {
     "data": {
      "image/png": "[encoded data removed]",
      "text/plain": [
       "<Figure size 600x400 with 1 Axes>"
      ]
     },
     "metadata": {},
     "output_type": "display_data"
    }
   ],
   "source": [
    "import matplotlib.pyplot as plt\n",
    "\n",
    "# Plotting the loss curve\n",
    "plt.figure(figsize=[6,4])\n",
    "plt.plot(tr_loss_hist, 'black', linewidth=2.0)\n",
    "plt.plot(val_loss_hist, 'blue', linewidth=2.0)\n",
    "plt.legend(['Training Loss', 'Validation Loss'], fontsize=14)\n",
    "plt.xlabel('Epochs', fontsize=10)\n",
    "plt.ylabel('Loss', fontsize=10)\n",
    "plt.title('Loss Curves', fontsize=12)"
   ]
  },
  {
   "cell_type": "code",
   "execution_count": null,
   "id": "47d7518f-5774-41b1-a1eb-f024ceb257e3",
   "metadata": {},
   "outputs": [],
   "source": []
  }
 ],
 "metadata": {
  "kernelspec": {
   "display_name": "Python 3 (ipykernel)",
   "language": "python",
   "name": "python3"
  },
  "language_info": {
   "codemirror_mode": {
    "name": "ipython",
    "version": 3
   },
   "file_extension": ".py",
   "mimetype": "text/x-python",
   "name": "python",
   "nbconvert_exporter": "python",
   "pygments_lexer": "ipython3",
   "version": "3.10.10"
  }
 },
 "nbformat": 4,
 "nbformat_minor": 5
}

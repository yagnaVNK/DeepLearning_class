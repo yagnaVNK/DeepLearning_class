{
 "cells": [
  {
   "cell_type": "code",
   "execution_count": 1,
   "id": "3b2f1fd4-b6b0-4330-af80-24f4624e3393",
   "metadata": {},
   "outputs": [],
   "source": [
    "import torch\n",
    "import os\n",
    "from PIL import Image\n",
    "from torchvision import transforms\n",
    "from torchvision.datasets import DatasetFolder\n",
    "import cv2\n",
    "import numpy as np"
   ]
  },
  {
   "cell_type": "markdown",
   "id": "d49e6a98-0e21-410f-b340-8f628a522d6b",
   "metadata": {},
   "source": [
    "# We need to write a transform to make it compatible with resnet18 (size 224x224x3, and type tensor)"
   ]
  },
  {
   "cell_type": "code",
   "execution_count": 2,
   "id": "4b7a2429-8769-459e-8fa2-d76ea098f7c7",
   "metadata": {},
   "outputs": [],
   "source": [
    "from torchvision import transforms\n",
    "\n",
    "transform = transforms.Compose([\n",
    "  transforms.Resize(256),\n",
    "  transforms.CenterCrop(224),\n",
    "  transforms.ToTensor(),\n",
    "  transforms.Normalize(\n",
    "      mean=[0.485, 0.456, 0.406],\n",
    "      std=[0.229, 0.224, 0.225])])\n",
    "\n",
    "\n",
    "def load_image(img_path:str):    \n",
    "        np_img = cv2.imread(img_path) #CV2 to open and convert BMP mages into NUMPY    \n",
    "        #np_img_gray = cv2.imread(img_path, cv2.IMREAD_GRAYSCALE)\n",
    "        return Image.fromarray(np_img)  #we need Image for the transforms to work correctly\n",
    "\n",
    "\n",
    "dset = DatasetFolder(root='RowanDLclassNEA/NEUdata', loader = load_image, extensions = ('.bmp',), transform = transform)"
   ]
  },
  {
   "cell_type": "markdown",
   "id": "d888624c-cde0-4592-b81f-0ede3eb81d70",
   "metadata": {},
   "source": [
    "### Note that load_image  needed to return a PIL.Image for the transforms to be correctly applied\n"
   ]
  },
  {
   "cell_type": "code",
   "execution_count": 3,
   "id": "5c626d8b-e903-4570-84a6-98ab02b6599d",
   "metadata": {},
   "outputs": [],
   "source": [
    "from torch.utils.data import random_split\n",
    "\n",
    "train_set, val_set = random_split(\n",
    "                      dset, \n",
    "                      [1200, 600])\n",
    "\n",
    "trainloader = torch.utils.data.DataLoader(\n",
    "                    train_set, \n",
    "                    batch_size=16, \n",
    "                    shuffle=True)\n",
    "\n",
    "valloader = torch.utils.data.DataLoader(\n",
    "                    val_set, \n",
    "                    batch_size=16, \n",
    "                    shuffle=True)\n",
    "\n"
   ]
  },
  {
   "cell_type": "markdown",
   "id": "1b4df227-ff40-4582-9390-67fc15538bcc",
   "metadata": {},
   "source": [
    " ### We are going to illustrate transfer learning now\n",
    "Transfer starts with a pretrained model from the torchvision library. The pretrained model will be resnet18. This model is trained on ImageNet 1K (this is the default for resnet18: DEFAULT = IMAGENET1K_V1)\n",
    "The fact that ImageNet consists of RGB images of size 224 x 224 demanded our data resizing in the transform"
   ]
  },
  {
   "cell_type": "code",
   "execution_count": 4,
   "id": "dfc177fa-4ef9-43b6-ac5e-ab08db53b67d",
   "metadata": {},
   "outputs": [],
   "source": [
    "import torchvision.models as models\n",
    "import torch.nn as nn\n",
    "from torchinfo import summary\n",
    "\n",
    "orig_model = models.resnet18(weights = models.ResNet18_Weights.IMAGENET1K_V1)"
   ]
  },
  {
   "cell_type": "markdown",
   "id": "9d268cdf-5f4c-46dc-a82c-a4b5ce2830f9",
   "metadata": {},
   "source": [
    "### notice that the last layer of the resnet18 is a linear layer with output size 1000\n",
    "\n",
    "We will first deepcopy  orig_model (where we instantiated resnet18 with pretrained weights): this will create an INDEPENDENT graph\n",
    "\n",
    "Then just replace model.fc with the linear layer\n"
   ]
  },
  {
   "cell_type": "code",
   "execution_count": 5,
   "id": "fe28699e-7982-4784-88a3-2b0b668d2ef7",
   "metadata": {},
   "outputs": [],
   "source": [
    "import copy\n",
    "alt_model = copy.deepcopy(orig_model)\n",
    "alt_model.fc = nn.Linear(512,6)"
   ]
  },
  {
   "cell_type": "code",
   "execution_count": 6,
   "id": "46ef3bce-d262-41a4-9d57-27b96d2fb9de",
   "metadata": {},
   "outputs": [
    {
     "name": "stdout",
     "output_type": "stream",
     "text": [
      "Epoch: 0 Train Loss: 0.865738665064176 Val Loss: 0.2687914006804165\n",
      "Epoch: 1 Train Loss: 0.24827866792678832 Val Loss: 0.10172150940879394\n",
      "Epoch: 2 Train Loss: 0.16375308692455293 Val Loss: 0.05682138228592904\n",
      "Epoch: 3 Train Loss: 0.0995722437898318 Val Loss: 0.03960807582265452\n",
      "Epoch: 4 Train Loss: 0.07519763626158238 Val Loss: 0.026612367431976293\n",
      "Epoch: 5 Train Loss: 0.05966012589633465 Val Loss: 0.020651678916213934\n",
      "Epoch: 6 Train Loss: 0.04329455963646372 Val Loss: 0.01691228928240506\n",
      "Epoch: 7 Train Loss: 0.035131167266517875 Val Loss: 0.014690339442734656\n",
      "Epoch: 8 Train Loss: 0.0421917572679619 Val Loss: 0.01392252341917667\n",
      "Epoch: 9 Train Loss: 0.037978319805115464 Val Loss: 0.012896466160830306\n",
      "Epoch: 10 Train Loss: 0.03255651427122454 Val Loss: 0.011772078995004688\n",
      "Epoch: 11 Train Loss: 0.027948937534044187 Val Loss: 0.009580203806858902\n",
      "Epoch: 12 Train Loss: 0.024620541436597705 Val Loss: 0.010054615454895324\n",
      "Epoch: 13 Train Loss: 0.02792179577673475 Val Loss: 0.00820172882001651\n",
      "Epoch: 14 Train Loss: 0.035347191300243136 Val Loss: 0.011468296092444737\n",
      "Epoch: 15 Train Loss: 0.03474831212156763 Val Loss: 0.00921895297391242\n",
      "Epoch: 16 Train Loss: 0.03268961375579238 Val Loss: 0.01173641659184604\n",
      "Epoch: 17 Train Loss: 0.029411559423121313 Val Loss: 0.005926596104951673\n",
      "Epoch: 18 Train Loss: 0.020257012924800318 Val Loss: 0.00670934616784124\n",
      "Epoch: 19 Train Loss: 0.02528243403105686 Val Loss: 0.005686275648737424\n"
     ]
    }
   ],
   "source": [
    "from torch import optim\n",
    "from torch import nn\n",
    "import torch.optim.lr_scheduler as lr_scheduler\n",
    "\n",
    "criterion = nn.CrossEntropyLoss()\n",
    "device = \"cuda\" if torch.cuda.is_available() else \"cpu\"\n",
    "Weights_model = alt_model.to(device)\n",
    "\n",
    "optimizer = optim.SGD(Weights_model.parameters(), \n",
    "                      lr=0.001, \n",
    "                      momentum=0.9)\n",
    " \n",
    "scheduler = lr_scheduler.LinearLR(optimizer, start_factor=1.0, end_factor=0.25, total_iters=10)\n",
    "\n",
    "\n",
    "\n",
    "N_EPOCHS = 20\n",
    "tr_loss_hist_1 = []\n",
    "val_loss_hist_1 = []\n",
    "for epoch in range(N_EPOCHS):\n",
    "\n",
    "    # Training \n",
    "    train_loss = 0.0\n",
    "    Weights_model.train() # <1>\n",
    "    for inputs, labels in trainloader:\n",
    "        inputs = inputs.to(device)\n",
    "        labels = labels.to(device)\n",
    "\n",
    "        optimizer.zero_grad()\n",
    "\n",
    "        outputs = Weights_model(inputs)\n",
    "        loss = criterion(outputs, labels)\n",
    "        loss.backward()\n",
    "        optimizer.step()\n",
    "        scheduler.step()\n",
    "\n",
    "        train_loss += loss.item()\n",
    "\n",
    "    # Validation\n",
    "    val_loss = 0.0\n",
    "    Weights_model.eval() # <2>\n",
    "    for inputs, labels in valloader:\n",
    "        inputs = inputs.to(device)\n",
    "        labels = labels.to(device)\n",
    "\n",
    "        outputs = Weights_model(inputs)\n",
    "        loss = criterion(outputs, labels)\n",
    "\n",
    "        val_loss += loss.item()\n",
    "\n",
    "    print(\"Epoch: {} Train Loss: {} Val Loss: {}\".format(\n",
    "                  epoch, \n",
    "                  train_loss/len(trainloader), \n",
    "                  val_loss/len(valloader)))\n",
    "    tr_loss_hist_1.append(train_loss/len(trainloader))\n",
    "    val_loss_hist_1.append(val_loss/len(valloader))"
   ]
  },
  {
   "cell_type": "code",
   "execution_count": 7,
   "id": "f451c814-d33f-450a-be31-3e2db24fea44",
   "metadata": {},
   "outputs": [
    {
     "name": "stdout",
     "output_type": "stream",
     "text": [
      "Test Accuracy of non weighted Resnet: 0.9375\n"
     ]
    },
    {
     "data": {
      "text/plain": [
       "Text(0.5, 1.0, 'Loss Curves weighted model')"
      ]
     },
     "execution_count": 7,
     "metadata": {},
     "output_type": "execute_result"
    },
    {
     "data": {
      "image/png": "[encoded data removed]",
      "text/plain": [
       "<Figure size 600x400 with 1 Axes>"
      ]
     },
     "metadata": {},
     "output_type": "display_data"
    }
   ],
   "source": [
    "\n",
    "\n",
    "tset = DatasetFolder(root='RowanDLclassNEA/NEUdata_split/Test', loader = load_image, extensions = ('.bmp',), transform = transform)\n",
    "\n",
    "testloader = torch.utils.data.DataLoader(\n",
    "                    tset, \n",
    "                    batch_size=16, \n",
    "                    shuffle=True)\n",
    "\n",
    "num_correct = 0.0\n",
    "\n",
    "for x_test_batch, y_test_batch in testloader:\n",
    "\n",
    "    Weights_model.eval()\n",
    "\n",
    "    y_test_batch = y_test_batch.to(device)\n",
    "\n",
    "    x_test_batch = x_test_batch.to(device)\n",
    "\n",
    "    y_pred_batch = Weights_model(x_test_batch)\n",
    "\n",
    "    _, predicted = torch.max(y_pred_batch, 1)\n",
    "\n",
    "    num_correct += (predicted == y_test_batch).float().sum()\n",
    "\n",
    "accuracy_1 = num_correct/(len(testloader)*testloader.batch_size)\n",
    "\n",
    "print(\"Test Accuracy of non weighted Resnet: {}\".format(accuracy_1))\n",
    "import matplotlib.pyplot as plt\n",
    "\n",
    "# Plotting the loss curve\n",
    "plt.figure(figsize=[6,4])\n",
    "plt.plot(tr_loss_hist_1, 'black', linewidth=2.0)\n",
    "plt.plot(val_loss_hist_1, 'blue', linewidth=2.0)\n",
    "plt.legend(['Training Loss', 'Validation Loss'], fontsize=14)\n",
    "plt.xlabel('Epochs', fontsize=10)\n",
    "plt.ylabel('Loss', fontsize=10)\n",
    "plt.title('Loss Curves weighted model', fontsize=12)"
   ]
  },
  {
   "cell_type": "markdown",
   "id": "ea245a78-9c59-4924-bfb3-5aa031d8ec7a",
   "metadata": {},
   "source": [
    "#### This is a different way of changing the resnet18\n",
    "\n",
    "Let's get rid of the last layer of the resnet18 (output size 1000), because we have only 6 classes!\n",
    "\n",
    "Plus, add the FlattenLayer to see what is the linearized size of the last AvgPool\n",
    "\n",
    "We will use this shortened model (vec_model) to build upon it later, but first we will **freeze its parameters** (disable further training)\n"
   ]
  },
  {
   "cell_type": "code",
   "execution_count": 8,
   "id": "c4c35f73-1f7a-4088-8637-b64d5c17db2a",
   "metadata": {},
   "outputs": [],
   "source": [
    "layers = list(orig_model.children())[:-1]  #get all the layers except the last one\n",
    "layers.append(nn.Flatten())   \n",
    "Fixed_model = nn.Sequential(*layers)\n",
    "for param in Fixed_model.parameters():\n",
    "    param.requires_grad = False"
   ]
  },
  {
   "cell_type": "markdown",
   "id": "bc84cf53-df54-4468-b87f-0a0187a8271c",
   "metadata": {},
   "source": [
    "## Here we will add linear layer to the frozen vec_model"
   ]
  },
  {
   "cell_type": "code",
   "execution_count": 9,
   "id": "2da6a276-c684-43b0-abf8-3be9b835977f",
   "metadata": {},
   "outputs": [
    {
     "data": {
      "text/plain": [
       "Sequential(\n",
       "  (0): Conv2d(3, 64, kernel_size=(7, 7), stride=(2, 2), padding=(3, 3), bias=False)\n",
       "  (1): BatchNorm2d(64, eps=1e-05, momentum=0.1, affine=True, track_running_stats=True)\n",
       "  (2): ReLU(inplace=True)\n",
       "  (3): MaxPool2d(kernel_size=3, stride=2, padding=1, dilation=1, ceil_mode=False)\n",
       "  (4): Sequential(\n",
       "    (0): BasicBlock(\n",
       "      (conv1): Conv2d(64, 64, kernel_size=(3, 3), stride=(1, 1), padding=(1, 1), bias=False)\n",
       "      (bn1): BatchNorm2d(64, eps=1e-05, momentum=0.1, affine=True, track_running_stats=True)\n",
       "      (relu): ReLU(inplace=True)\n",
       "      (conv2): Conv2d(64, 64, kernel_size=(3, 3), stride=(1, 1), padding=(1, 1), bias=False)\n",
       "      (bn2): BatchNorm2d(64, eps=1e-05, momentum=0.1, affine=True, track_running_stats=True)\n",
       "    )\n",
       "    (1): BasicBlock(\n",
       "      (conv1): Conv2d(64, 64, kernel_size=(3, 3), stride=(1, 1), padding=(1, 1), bias=False)\n",
       "      (bn1): BatchNorm2d(64, eps=1e-05, momentum=0.1, affine=True, track_running_stats=True)\n",
       "      (relu): ReLU(inplace=True)\n",
       "      (conv2): Conv2d(64, 64, kernel_size=(3, 3), stride=(1, 1), padding=(1, 1), bias=False)\n",
       "      (bn2): BatchNorm2d(64, eps=1e-05, momentum=0.1, affine=True, track_running_stats=True)\n",
       "    )\n",
       "  )\n",
       "  (5): Sequential(\n",
       "    (0): BasicBlock(\n",
       "      (conv1): Conv2d(64, 128, kernel_size=(3, 3), stride=(2, 2), padding=(1, 1), bias=False)\n",
       "      (bn1): BatchNorm2d(128, eps=1e-05, momentum=0.1, affine=True, track_running_stats=True)\n",
       "      (relu): ReLU(inplace=True)\n",
       "      (conv2): Conv2d(128, 128, kernel_size=(3, 3), stride=(1, 1), padding=(1, 1), bias=False)\n",
       "      (bn2): BatchNorm2d(128, eps=1e-05, momentum=0.1, affine=True, track_running_stats=True)\n",
       "      (downsample): Sequential(\n",
       "        (0): Conv2d(64, 128, kernel_size=(1, 1), stride=(2, 2), bias=False)\n",
       "        (1): BatchNorm2d(128, eps=1e-05, momentum=0.1, affine=True, track_running_stats=True)\n",
       "      )\n",
       "    )\n",
       "    (1): BasicBlock(\n",
       "      (conv1): Conv2d(128, 128, kernel_size=(3, 3), stride=(1, 1), padding=(1, 1), bias=False)\n",
       "      (bn1): BatchNorm2d(128, eps=1e-05, momentum=0.1, affine=True, track_running_stats=True)\n",
       "      (relu): ReLU(inplace=True)\n",
       "      (conv2): Conv2d(128, 128, kernel_size=(3, 3), stride=(1, 1), padding=(1, 1), bias=False)\n",
       "      (bn2): BatchNorm2d(128, eps=1e-05, momentum=0.1, affine=True, track_running_stats=True)\n",
       "    )\n",
       "  )\n",
       "  (6): Sequential(\n",
       "    (0): BasicBlock(\n",
       "      (conv1): Conv2d(128, 256, kernel_size=(3, 3), stride=(2, 2), padding=(1, 1), bias=False)\n",
       "      (bn1): BatchNorm2d(256, eps=1e-05, momentum=0.1, affine=True, track_running_stats=True)\n",
       "      (relu): ReLU(inplace=True)\n",
       "      (conv2): Conv2d(256, 256, kernel_size=(3, 3), stride=(1, 1), padding=(1, 1), bias=False)\n",
       "      (bn2): BatchNorm2d(256, eps=1e-05, momentum=0.1, affine=True, track_running_stats=True)\n",
       "      (downsample): Sequential(\n",
       "        (0): Conv2d(128, 256, kernel_size=(1, 1), stride=(2, 2), bias=False)\n",
       "        (1): BatchNorm2d(256, eps=1e-05, momentum=0.1, affine=True, track_running_stats=True)\n",
       "      )\n",
       "    )\n",
       "    (1): BasicBlock(\n",
       "      (conv1): Conv2d(256, 256, kernel_size=(3, 3), stride=(1, 1), padding=(1, 1), bias=False)\n",
       "      (bn1): BatchNorm2d(256, eps=1e-05, momentum=0.1, affine=True, track_running_stats=True)\n",
       "      (relu): ReLU(inplace=True)\n",
       "      (conv2): Conv2d(256, 256, kernel_size=(3, 3), stride=(1, 1), padding=(1, 1), bias=False)\n",
       "      (bn2): BatchNorm2d(256, eps=1e-05, momentum=0.1, affine=True, track_running_stats=True)\n",
       "    )\n",
       "  )\n",
       "  (7): Sequential(\n",
       "    (0): BasicBlock(\n",
       "      (conv1): Conv2d(256, 512, kernel_size=(3, 3), stride=(2, 2), padding=(1, 1), bias=False)\n",
       "      (bn1): BatchNorm2d(512, eps=1e-05, momentum=0.1, affine=True, track_running_stats=True)\n",
       "      (relu): ReLU(inplace=True)\n",
       "      (conv2): Conv2d(512, 512, kernel_size=(3, 3), stride=(1, 1), padding=(1, 1), bias=False)\n",
       "      (bn2): BatchNorm2d(512, eps=1e-05, momentum=0.1, affine=True, track_running_stats=True)\n",
       "      (downsample): Sequential(\n",
       "        (0): Conv2d(256, 512, kernel_size=(1, 1), stride=(2, 2), bias=False)\n",
       "        (1): BatchNorm2d(512, eps=1e-05, momentum=0.1, affine=True, track_running_stats=True)\n",
       "      )\n",
       "    )\n",
       "    (1): BasicBlock(\n",
       "      (conv1): Conv2d(512, 512, kernel_size=(3, 3), stride=(1, 1), padding=(1, 1), bias=False)\n",
       "      (bn1): BatchNorm2d(512, eps=1e-05, momentum=0.1, affine=True, track_running_stats=True)\n",
       "      (relu): ReLU(inplace=True)\n",
       "      (conv2): Conv2d(512, 512, kernel_size=(3, 3), stride=(1, 1), padding=(1, 1), bias=False)\n",
       "      (bn2): BatchNorm2d(512, eps=1e-05, momentum=0.1, affine=True, track_running_stats=True)\n",
       "    )\n",
       "  )\n",
       "  (8): AdaptiveAvgPool2d(output_size=(1, 1))\n",
       "  (9): Flatten(start_dim=1, end_dim=-1)\n",
       "  (10): Linear(in_features=512, out_features=6, bias=True)\n",
       ")"
      ]
     },
     "execution_count": 9,
     "metadata": {},
     "output_type": "execute_result"
    }
   ],
   "source": [
    "layers = list(Fixed_model.children())  #get all the layers except the last one\n",
    "layers.append(nn.Linear(512,6))\n",
    "Fixed_model = nn.Sequential(*layers)\n",
    "\n",
    "Fixed_model"
   ]
  },
  {
   "cell_type": "markdown",
   "id": "97b49f74-1503-4a8c-839b-0325aec16092",
   "metadata": {},
   "source": [
    "#### Train vec_model"
   ]
  },
  {
   "cell_type": "code",
   "execution_count": 10,
   "id": "ec70bfa6-fdc3-4345-8803-0a50683f9878",
   "metadata": {},
   "outputs": [
    {
     "name": "stdout",
     "output_type": "stream",
     "text": [
      "Epoch: 0 Train Loss: 1.4489190888404846 Val Loss: 0.8805368605412935\n",
      "Epoch: 1 Train Loss: 0.7581144499778748 Val Loss: 0.49521155263248245\n",
      "Epoch: 2 Train Loss: 0.5219244015216827 Val Loss: 0.3528060509186042\n",
      "Epoch: 3 Train Loss: 0.4249610567092896 Val Loss: 0.2782827015770109\n",
      "Epoch: 4 Train Loss: 0.34455680588881177 Val Loss: 0.23341582166521171\n",
      "Epoch: 5 Train Loss: 0.3051404309272766 Val Loss: 0.20371378134740026\n",
      "Epoch: 6 Train Loss: 0.28812307039896645 Val Loss: 0.17748207069541277\n",
      "Epoch: 7 Train Loss: 0.2710314213236173 Val Loss: 0.16843055051408315\n",
      "Epoch: 8 Train Loss: 0.23247634450594584 Val Loss: 0.15287262240522786\n",
      "Epoch: 9 Train Loss: 0.23082882662614188 Val Loss: 0.15424279025510737\n",
      "Epoch: 10 Train Loss: 0.21143398890892665 Val Loss: 0.12884260821891458\n",
      "Epoch: 11 Train Loss: 0.1914911656578382 Val Loss: 0.11955853698677138\n",
      "Epoch: 12 Train Loss: 0.1888433172305425 Val Loss: 0.12179646827280521\n",
      "Epoch: 13 Train Loss: 0.17969737167159716 Val Loss: 0.11495621678860564\n",
      "Epoch: 14 Train Loss: 0.16916716227928796 Val Loss: 0.10857514144950792\n",
      "Epoch: 15 Train Loss: 0.17668626695871353 Val Loss: 0.10313047027509463\n",
      "Epoch: 16 Train Loss: 0.1615957768758138 Val Loss: 0.10470839776098728\n",
      "Epoch: 17 Train Loss: 0.15747344752152762 Val Loss: 0.09948194017143626\n",
      "Epoch: 18 Train Loss: 0.14610259741544723 Val Loss: 0.09852339317531962\n",
      "Epoch: 19 Train Loss: 0.13974548334876696 Val Loss: 0.09415216606698538\n"
     ]
    }
   ],
   "source": [
    "from torch import optim\n",
    "from torch import nn\n",
    "import torch.optim.lr_scheduler as lr_scheduler\n",
    "\n",
    "criterion = nn.CrossEntropyLoss()\n",
    "device = \"cuda\" if torch.cuda.is_available() else \"cpu\"\n",
    "Fixed_model = Fixed_model.to(device)\n",
    "\n",
    "optimizer = optim.SGD(Fixed_model.parameters(), \n",
    "                      lr=0.001, \n",
    "                      momentum=0.9)\n",
    " \n",
    "scheduler = lr_scheduler.LinearLR(optimizer, start_factor=1.0, end_factor=0.25, total_iters=10)\n",
    "\n",
    "\n",
    "#from torch.utils.tensorboard import SummaryWriter\n",
    "\n",
    "N_EPOCHS = 20\n",
    "tr_loss_hist_2 = []\n",
    "val_loss_hist_2 = []\n",
    "for epoch in range(N_EPOCHS):\n",
    "\n",
    "    # Training \n",
    "    train_loss = 0.0\n",
    "    Fixed_model.train() # <1>\n",
    "    for inputs, labels in trainloader:\n",
    "        inputs = inputs.to(device)\n",
    "        labels = labels.to(device)\n",
    "\n",
    "        optimizer.zero_grad()\n",
    "\n",
    "        outputs = Fixed_model(inputs)\n",
    "        loss = criterion(outputs, labels)\n",
    "        loss.backward()\n",
    "        optimizer.step()\n",
    "        scheduler.step()\n",
    "\n",
    "        train_loss += loss.item()\n",
    "\n",
    "    # Validation\n",
    "    val_loss = 0.0\n",
    "    Fixed_model.eval() # <2>\n",
    "    for inputs, labels in valloader:\n",
    "        inputs = inputs.to(device)\n",
    "        labels = labels.to(device)\n",
    "\n",
    "        outputs = Fixed_model(inputs)\n",
    "        loss = criterion(outputs, labels)\n",
    "\n",
    "        val_loss += loss.item()\n",
    "\n",
    "    print(\"Epoch: {} Train Loss: {} Val Loss: {}\".format(\n",
    "                  epoch, \n",
    "                  train_loss/len(trainloader), \n",
    "                  val_loss/len(valloader)))\n",
    "    tr_loss_hist_2.append(train_loss/len(trainloader))\n",
    "    val_loss_hist_2.append(val_loss/len(valloader))"
   ]
  },
  {
   "cell_type": "code",
   "execution_count": 12,
   "id": "47d7518f-5774-41b1-a1eb-f024ceb257e3",
   "metadata": {},
   "outputs": [
    {
     "name": "stdout",
     "output_type": "stream",
     "text": [
      "Test Accuracy of weighted resnet: 0.9166666865348816\n"
     ]
    },
    {
     "data": {
      "text/plain": [
       "Text(0.5, 1.0, 'Loss Curves Fixed model')"
      ]
     },
     "execution_count": 12,
     "metadata": {},
     "output_type": "execute_result"
    },
    {
     "data": {
      "image/png": "[encoded data removed]",
      "text/plain": [
       "<Figure size 600x400 with 1 Axes>"
      ]
     },
     "metadata": {},
     "output_type": "display_data"
    }
   ],
   "source": [
    "\n",
    "num_correct = 0.0\n",
    "\n",
    "for x_test_batch, y_test_batch in testloader:\n",
    "\n",
    "    Fixed_model.eval()\n",
    "\n",
    "    y_test_batch = y_test_batch.to(device)\n",
    "\n",
    "    x_test_batch = x_test_batch.to(device)\n",
    "\n",
    "    y_pred_batch = Fixed_model(x_test_batch)\n",
    "\n",
    "    _, predicted = torch.max(y_pred_batch, 1)\n",
    "\n",
    "    num_correct += (predicted == y_test_batch).float().sum()\n",
    "\n",
    "accuracy_2 = num_correct/(len(testloader)*testloader.batch_size)\n",
    "\n",
    "print(\"Test Accuracy of weighted resnet: {}\".format(accuracy_2))\n",
    "import matplotlib.pyplot as plt\n",
    "\n",
    "# Plotting the loss curve\n",
    "plt.figure(figsize=[6,4])\n",
    "plt.plot(tr_loss_hist_2, 'black', linewidth=2.0)\n",
    "plt.plot(val_loss_hist_2, 'blue', linewidth=2.0)\n",
    "plt.legend(['Training Loss', 'Validation Loss'], fontsize=14)\n",
    "plt.xlabel('Epochs', fontsize=10)\n",
    "plt.ylabel('Loss', fontsize=10)\n",
    "plt.title('Loss Curves Fixed model', fontsize=12)"
   ]
  },
  {
   "cell_type": "markdown",
   "id": "f2aa0865",
   "metadata": {},
   "source": [
    "Differences with respect to neaclass 2 notebook is that the Third model we trained it fixing the weights of the model which reduced the freedom to modify the weights based on the parameter. Hence there is a decrese in the accuracy from 93.75 to 91 percent. "
   ]
  },
  {
   "cell_type": "markdown",
   "id": "aa668ece",
   "metadata": {},
   "source": []
  }
 ],
 "metadata": {
  "kernelspec": {
   "display_name": "Python 3 (ipykernel)",
   "language": "python",
   "name": "python3"
  },
  "language_info": {
   "codemirror_mode": {
    "name": "ipython",
    "version": 3
   },
   "file_extension": ".py",
   "mimetype": "text/x-python",
   "name": "python",
   "nbconvert_exporter": "python",
   "pygments_lexer": "ipython3",
   "version": "3.10.10"
  }
 },
 "nbformat": 4,
 "nbformat_minor": 5
}
